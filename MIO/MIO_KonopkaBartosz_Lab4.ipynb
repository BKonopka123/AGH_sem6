{
  "nbformat": 4,
  "nbformat_minor": 0,
  "metadata": {
    "colab": {
      "provenance": [],
      "gpuType": "T4",
      "collapsed_sections": [
        "X2ew_GK9kl8P",
        "g3Uarto2GDVi"
      ]
    },
    "kernelspec": {
      "name": "python3",
      "display_name": "Python 3"
    },
    "language_info": {
      "name": "python"
    },
    "accelerator": "GPU"
  },
  "cells": [
    {
      "cell_type": "markdown",
      "source": [
        "# Bartsz Konopka - Laboratorium nr 3 - grupa 2"
      ],
      "metadata": {
        "id": "X2ew_GK9kl8P"
      }
    },
    {
      "cell_type": "code",
      "source": [
        "import torch\n",
        "import torchvision\n",
        "import torch.nn as nn\n",
        "import torch.nn.functional as F\n",
        "from torch.autograd import Variable\n",
        "import torchvision.transforms as T\n",
        "import torch.optim as optim\n",
        "import numpy as np\n",
        "import matplotlib.pyplot as plt"
      ],
      "metadata": {
        "id": "6DI7s7yoGbTS"
      },
      "execution_count": 1,
      "outputs": []
    },
    {
      "cell_type": "markdown",
      "source": [
        "# ZAD 1"
      ],
      "metadata": {
        "id": "g3Uarto2GDVi"
      }
    },
    {
      "cell_type": "markdown",
      "source": [
        "## Kod"
      ],
      "metadata": {
        "id": "4MlPu4KBhFTo"
      }
    },
    {
      "cell_type": "markdown",
      "source": [
        "Treść:\n",
        "\n",
        "Proszę pobrać zbiór fasion MNIST (torchvision.datasets.FashionMNIST) i zaproponować sieć konwolucyjną do jego klasyfikacji. Dla co najmniej trzech architektur proszę wypisać macierz pomyłek i wykresy funkcji strat podczas uczenia. Proszę spróbować w każdym wypadku podać przynajmniej jeden źle zaklasyfikowany obrazek.\n",
        "\n",
        "Proszę pamiętać, że zadanie może wymagać odpowiedniego czasu na obliczenia. Nie polecamy wykonywać go na komputerach uczelnianych, tylko wykorzystać zasoby colaba (albo własne, jeśli państwo chcą). Ewentualne przyśpieszenie obliczeń można uzyskać korzystając z GPU w colabie, jeżeli nie dysponują państwo kartą NVidii albo nie chcą jej państwo używać (opisane w zadaniu 2*)"
      ],
      "metadata": {
        "id": "uDQfom7dGHye"
      }
    },
    {
      "cell_type": "code",
      "source": [
        "transform = T.Compose([T.ToTensor(), T.Normalize((0.5,), (0.5,))])\n",
        "\n",
        "batch_size = 4\n",
        "\n",
        "trainset = torchvision.datasets.FashionMNIST(root='./data', train=True, download=True, transform=transform)\n",
        "trainloader = torch.utils.data.DataLoader(trainset, batch_size=batch_size, shuffle=True, num_workers=2)\n",
        "\n",
        "testset = torchvision.datasets.FashionMNIST(root='./data', train=False, download=True, transform=transform)\n",
        "testloader = torch.utils.data.DataLoader(testset, batch_size=batch_size, shuffle=False, num_workers=2)\n",
        "\n",
        "classes = ('T-shirt/top', 'Trouser', 'Pullover', 'Dress', 'Coat', 'Sandal', 'Shirt', 'Sneaker', 'Bag', 'Ankle boot')"
      ],
      "metadata": {
        "id": "F6MAKUefGHGd"
      },
      "execution_count": 3,
      "outputs": []
    },
    {
      "cell_type": "code",
      "source": [
        "def imshow(img):\n",
        "    img = img / 2 + 0.5\n",
        "    npimg = img.numpy()\n",
        "    plt.imshow(np.transpose(npimg, (1, 2, 0)))\n",
        "    plt.show()\n",
        "\n",
        "dataiter = iter(trainloader)\n",
        "images, labels = next(dataiter)\n",
        "\n",
        "imshow(torchvision.utils.make_grid(images))\n",
        "print(' '.join(f'{classes[labels[j]]:5s}' for j in range(batch_size)))"
      ],
      "metadata": {
        "colab": {
          "base_uri": "https://localhost:8080/",
          "height": 211
        },
        "id": "ekY6m9ZLLtN0",
        "outputId": "906314f8-2e9d-404b-eabb-32b1282cea9e"
      },
      "execution_count": 4,
      "outputs": [
        {
          "output_type": "display_data",
          "data": {
            "text/plain": [
              "<Figure size 640x480 with 1 Axes>"
            ],
            "image/png": "[encoded data removed]"
          },
          "metadata": {}
        },
        {
          "output_type": "stream",
          "name": "stdout",
          "text": [
            "Bag   Coat  T-shirt/top Sneaker\n"
          ]
        }
      ]
    },
    {
      "cell_type": "code",
      "source": [
        "class Net1(nn.Module):\n",
        "    def __init__(self):\n",
        "        super(Net1, self).__init__()\n",
        "        self.conv1 = nn.Conv2d(1, 6, 5)\n",
        "        self.pool = nn.MaxPool2d(2, 2)\n",
        "        self.conv2 = nn.Conv2d(6, 16, 5)\n",
        "        self.fc1 = nn.Linear(16 * 4 * 4, 120)\n",
        "        self.fc2 = nn.Linear(120, 84)\n",
        "        self.fc3 = nn.Linear(84, 10)\n",
        "\n",
        "    def forward(self, x):\n",
        "        x = self.pool(F.relu(self.conv1(x)))\n",
        "        x = self.pool(F.relu(self.conv2(x)))\n",
        "        x = x.view(-1, 16 * 4 * 4)\n",
        "        x = F.relu(self.fc1(x))\n",
        "        x = F.relu(self.fc2(x))\n",
        "        x = self.fc3(x)\n",
        "        return x\n",
        "\n",
        "class Net2(nn.Module):\n",
        "    def __init__(self):\n",
        "        super(Net2, self).__init__()\n",
        "        self.conv1 = nn.Conv2d(1, 8, 5)\n",
        "        self.pool = nn.MaxPool2d(2, 2)\n",
        "        self.conv2 = nn.Conv2d(8, 20, 5)\n",
        "        self.fc1 = nn.Linear(20 * 4 * 4, 160)\n",
        "        self.fc2 = nn.Linear(160, 84)\n",
        "        self.fc3 = nn.Linear(84, 10)\n",
        "\n",
        "    def forward(self, x):\n",
        "        x = self.pool(F.relu(self.conv1(x)))\n",
        "        x = self.pool(F.relu(self.conv2(x)))\n",
        "        x = x.view(-1, 20 * 4 * 4)\n",
        "        x = F.relu(self.fc1(x))\n",
        "        x = F.relu(self.fc2(x))\n",
        "        x = self.fc3(x)\n",
        "        return x\n",
        "\n",
        "\n",
        "class Net3(nn.Module):\n",
        "    def __init__(self):\n",
        "        super(Net3, self).__init__()\n",
        "        self.conv1 = nn.Conv2d(1, 6, 3)\n",
        "        self.pool = nn.MaxPool2d(2, 2)\n",
        "        self.conv2 = nn.Conv2d(6, 16, 3)\n",
        "        self.conv3 = nn.Conv2d(16, 32, 3)\n",
        "        self.avgpool = nn.AdaptiveAvgPool2d((1, 1))\n",
        "        self.fc1 = nn.Linear(32, 120)\n",
        "        self.fc2 = nn.Linear(120, 84)\n",
        "        self.fc3 = nn.Linear(84, 10)\n",
        "\n",
        "    def forward(self, x):\n",
        "        x = F.relu(self.conv1(x))\n",
        "        x = self.pool(x)\n",
        "        x = F.relu(self.conv2(x))\n",
        "        x = self.pool(x)\n",
        "        x = F.relu(self.conv3(x))\n",
        "        x = self.avgpool(x)\n",
        "        x = torch.flatten(x, 1)\n",
        "        x = F.relu(self.fc1(x))\n",
        "        x = F.relu(self.fc2(x))\n",
        "        x = self.fc3(x)\n",
        "        return x\n",
        "\n",
        "\n",
        "net1 = Net1()\n",
        "net2 = Net2()\n",
        "net3 = Net3()"
      ],
      "metadata": {
        "id": "e1TDOWKENyPT"
      },
      "execution_count": 94,
      "outputs": []
    },
    {
      "cell_type": "code",
      "source": [
        "criterion = nn.CrossEntropyLoss()\n",
        "optimizer1 = optim.SGD(net1.parameters(), lr=0.001, momentum=0.9)\n",
        "optimizer2 = optim.SGD(net2.parameters(), lr=0.001, momentum=0.9)\n",
        "optimizer3 = optim.SGD(net3.parameters(), lr=0.001, momentum=0.9)"
      ],
      "metadata": {
        "id": "TT4FmvMyPbjk"
      },
      "execution_count": 95,
      "outputs": []
    },
    {
      "cell_type": "code",
      "source": [
        "def train(net, criterion, optimizer, epochs=5):\n",
        "    losses = []\n",
        "    for epoch in range(epochs):\n",
        "        running_loss = 0.0\n",
        "        for i, data in enumerate(trainloader, 0):\n",
        "            inputs, labels = data\n",
        "            optimizer.zero_grad()\n",
        "            outputs = net(inputs)\n",
        "            loss = criterion(outputs, labels)\n",
        "            loss.backward()\n",
        "            optimizer.step()\n",
        "            running_loss += loss.item()\n",
        "            if i % 2000 == 1999:\n",
        "                print('[%d, %5d] loss: %.3f' %\n",
        "                      (epoch + 1, i + 1, running_loss / 2000))\n",
        "                losses.append(running_loss / 2000)\n",
        "                running_loss = 0.0\n",
        "    print('Finished Training')\n",
        "    return losses"
      ],
      "metadata": {
        "id": "Iy-9Aw0wPf-T"
      },
      "execution_count": 96,
      "outputs": []
    },
    {
      "cell_type": "code",
      "source": [
        "def test(net):\n",
        "    correct = 0\n",
        "    total = 0\n",
        "    confusion_matrix = np.zeros((10, 10), dtype=int)\n",
        "    misclassified_images = []\n",
        "    with torch.no_grad():\n",
        "        for data in testloader:\n",
        "            images, labels = data\n",
        "            outputs = net(images)\n",
        "            _, predicted = torch.max(outputs.data, 1)\n",
        "            total += labels.size(0)\n",
        "            correct += (predicted == labels).sum().item()\n",
        "            for i in range(len(labels)):\n",
        "                confusion_matrix[labels[i]][predicted[i]] += 1\n",
        "                if predicted[i] != labels[i] and len(misclassified_images) < 1:\n",
        "                    misclassified_images.append((images[i], labels[i], predicted[i]))\n",
        "\n",
        "    print('Accuracy of the network on the 10000 test images: %d %%' % (\n",
        "        100 * correct / total))\n",
        "    print(\"Confusion Matrix:\")\n",
        "    print(confusion_matrix)\n",
        "\n",
        "    for idx, (image, true_label, predicted_label) in enumerate(misclassified_images):\n",
        "        print(\"Misclassified Image {}:\".format(idx + 1))\n",
        "        imshow(torchvision.utils.make_grid(image))\n",
        "        print('True Label: {}'.format(classes[true_label]))\n",
        "        print('Predicted Label: {}'.format(classes[predicted_label]))\n",
        "        plt.show()\n"
      ],
      "metadata": {
        "id": "FSPbkQHSP4me"
      },
      "execution_count": 97,
      "outputs": []
    },
    {
      "cell_type": "code",
      "source": [
        "losses1 = train(net1, criterion, optimizer1, epochs=2)"
      ],
      "metadata": {
        "colab": {
          "base_uri": "https://localhost:8080/"
        },
        "id": "ub_aMMZPQCDz",
        "outputId": "a973cf95-6c03-426a-892a-af8cbfe5df99"
      },
      "execution_count": 100,
      "outputs": [
        {
          "output_type": "stream",
          "name": "stdout",
          "text": [
            "[1,  2000] loss: 1.186\n",
            "[1,  4000] loss: 0.651\n",
            "[1,  6000] loss: 0.558\n",
            "[1,  8000] loss: 0.525\n",
            "[1, 10000] loss: 0.488\n",
            "[1, 12000] loss: 0.442\n",
            "[1, 14000] loss: 0.434\n",
            "[2,  2000] loss: 0.392\n",
            "[2,  4000] loss: 0.385\n",
            "[2,  6000] loss: 0.387\n",
            "[2,  8000] loss: 0.382\n",
            "[2, 10000] loss: 0.369\n",
            "[2, 12000] loss: 0.357\n",
            "[2, 14000] loss: 0.347\n",
            "Finished Training\n"
          ]
        }
      ]
    },
    {
      "cell_type": "code",
      "source": [
        "losses2 = train(net2, criterion, optimizer2, epochs=2)"
      ],
      "metadata": {
        "id": "rw-bQ5orS80O",
        "colab": {
          "base_uri": "https://localhost:8080/"
        },
        "outputId": "ee64c9c5-1e75-433c-b4e2-0dd2655c60d5"
      },
      "execution_count": 99,
      "outputs": [
        {
          "output_type": "stream",
          "name": "stdout",
          "text": [
            "[1,  2000] loss: 1.433\n",
            "[1,  4000] loss: 0.673\n",
            "[1,  6000] loss: 0.573\n",
            "[1,  8000] loss: 0.502\n",
            "[1, 10000] loss: 0.477\n",
            "[1, 12000] loss: 0.433\n",
            "[1, 14000] loss: 0.408\n",
            "[2,  2000] loss: 0.372\n",
            "[2,  4000] loss: 0.373\n",
            "[2,  6000] loss: 0.358\n",
            "[2,  8000] loss: 0.344\n",
            "[2, 10000] loss: 0.361\n",
            "[2, 12000] loss: 0.349\n",
            "[2, 14000] loss: 0.336\n",
            "Finished Training\n"
          ]
        }
      ]
    },
    {
      "cell_type": "code",
      "source": [
        "losses3 = train(net3, criterion, optimizer3, epochs=2)"
      ],
      "metadata": {
        "id": "JxTUuQ-kS9pD",
        "colab": {
          "base_uri": "https://localhost:8080/"
        },
        "outputId": "c4e6942b-4495-4c81-bc65-30deb8132ad8"
      },
      "execution_count": 98,
      "outputs": [
        {
          "output_type": "stream",
          "name": "stdout",
          "text": [
            "[1,  2000] loss: 2.302\n",
            "[1,  4000] loss: 2.081\n",
            "[1,  6000] loss: 1.058\n",
            "[1,  8000] loss: 0.844\n",
            "[1, 10000] loss: 0.751\n",
            "[1, 12000] loss: 0.701\n",
            "[1, 14000] loss: 0.648\n",
            "[2,  2000] loss: 0.603\n",
            "[2,  4000] loss: 0.588\n",
            "[2,  6000] loss: 0.565\n",
            "[2,  8000] loss: 0.528\n",
            "[2, 10000] loss: 0.515\n",
            "[2, 12000] loss: 0.533\n",
            "[2, 14000] loss: 0.497\n",
            "Finished Training\n"
          ]
        }
      ]
    },
    {
      "cell_type": "code",
      "source": [
        "plt.plot(losses1)\n",
        "plt.plot(losses2)\n",
        "plt.plot(losses3)\n",
        "plt.show()"
      ],
      "metadata": {
        "colab": {
          "base_uri": "https://localhost:8080/",
          "height": 430
        },
        "id": "Ho3S7F1_SAW2",
        "outputId": "51b2115d-3ef5-42c4-9289-e9872cbe99a2"
      },
      "execution_count": 101,
      "outputs": [
        {
          "output_type": "display_data",
          "data": {
            "text/plain": [
              "<Figure size 640x480 with 1 Axes>"
            ],
            "image/png": "[encoded data removed]"
          },
          "metadata": {}
        }
      ]
    },
    {
      "cell_type": "code",
      "source": [
        "test(net1)\n",
        "test(net2)\n",
        "test(net3)"
      ],
      "metadata": {
        "colab": {
          "base_uri": "https://localhost:8080/",
          "height": 1000
        },
        "id": "cpIt1TsFQDZ6",
        "outputId": "b43eda35-2791-4b3f-8b87-2e24f47522a2"
      },
      "execution_count": 102,
      "outputs": [
        {
          "output_type": "stream",
          "name": "stdout",
          "text": [
            "Accuracy of the network on the 10000 test images: 86 %\n",
            "Confusion Matrix:\n",
            "[[821   1   8  43   4   2 113   0   8   0]\n",
            " [  0 969   0  19   3   1   6   0   2   0]\n",
            " [ 14   0 764  12 129   1  76   0   4   0]\n",
            " [ 16   4   2 929  17   0  30   0   1   1]\n",
            " [  1   1  69  49 833   0  46   0   1   0]\n",
            " [  0   0   0   2   0 941   0  38   0  19]\n",
            " [154   1  97  39 122   0 577   0  10   0]\n",
            " [  0   0   0   0   0   3   0 961   0  36]\n",
            " [  3   2   8   8   3  15   9   7 944   1]\n",
            " [  0   0   0   0   0   4   0  36   0 960]]\n",
            "Misclassified Image 1:\n"
          ]
        },
        {
          "output_type": "display_data",
          "data": {
            "text/plain": [
              "<Figure size 640x480 with 1 Axes>"
            ],
            "image/png": "[encoded data removed]"
          },
          "metadata": {}
        },
        {
          "output_type": "stream",
          "name": "stdout",
          "text": [
            "True Label: Sneaker\n",
            "Predicted Label: Sandal\n",
            "Accuracy of the network on the 10000 test images: 87 %\n",
            "Confusion Matrix:\n",
            "[[835   1   7  32   4   2 113   0   6   0]\n",
            " [  0 971   0  20   3   1   4   0   1   0]\n",
            " [ 18   1 747   8  83   0 141   0   2   0]\n",
            " [ 17   6   7 900  22   0  45   0   3   0]\n",
            " [  1   2  56  36 784   0 120   0   1   0]\n",
            " [  0   0   0   0   0 966   0  22   0  12]\n",
            " [137   1  52  25  76   0 695   0  14   0]\n",
            " [  0   0   0   0   0  19   0 944   0  37]\n",
            " [  4   2   4   5   3   4   4   5 969   0]\n",
            " [  0   0   0   0   0   4   0  31   1 964]]\n",
            "Misclassified Image 1:\n"
          ]
        },
        {
          "output_type": "display_data",
          "data": {
            "text/plain": [
              "<Figure size 640x480 with 1 Axes>"
            ],
            "image/png": "[encoded data removed]"
          },
          "metadata": {}
        },
        {
          "output_type": "stream",
          "name": "stdout",
          "text": [
            "True Label: Sneaker\n",
            "Predicted Label: Sandal\n",
            "Accuracy of the network on the 10000 test images: 80 %\n",
            "Confusion Matrix:\n",
            "[[809   1  33  85   7   5  33   0  27   0]\n",
            " [  1 953   2  32   9   1   0   0   2   0]\n",
            " [ 12   1 542   9 190   0 235   0  11   0]\n",
            " [ 20  11  15 853  68   0  25   1   7   0]\n",
            " [  1   0  31  43 749   0 170   0   6   0]\n",
            " [  0   1   0   1   0 922   0  57   1  18]\n",
            " [231   3  70  68 163   0 424   0  41   0]\n",
            " [  0   0   0   0   0  20   0 965   0  15]\n",
            " [  2   1   4   3   5   6  10   5 962   2]\n",
            " [  0   0   0   0   0   9   0 102   0 889]]\n",
            "Misclassified Image 1:\n"
          ]
        },
        {
          "output_type": "display_data",
          "data": {
            "text/plain": [
              "<Figure size 640x480 with 1 Axes>"
            ],
            "image/png": "[encoded data removed]"
          },
          "metadata": {}
        },
        {
          "output_type": "stream",
          "name": "stdout",
          "text": [
            "True Label: Ankle boot\n",
            "Predicted Label: Sneaker\n"
          ]
        }
      ]
    },
    {
      "cell_type": "markdown",
      "source": [
        "## Wnioski"
      ],
      "metadata": {
        "id": "HEjt9ZJzhHmo"
      }
    },
    {
      "cell_type": "markdown",
      "source": [
        "Architektura sieci neuronowych odgrywa istotną rolę w procesie klasyfikacji danych. W naszym zadaniu zastosowaliśmy trzy różne architektury oznaczone jako Net1, Net2 i Net3. Każda z tych architektur posiadała unikalną liczbę warstw oraz różne parametry konwolucyjne i liniowe. W trakcie trenowania sieci neuronowych niezwykle istotne jest odpowiednie dobranie hiperparametrów, takich jak współczynnik uczenia (learning rate), momentum oraz liczba epok. W naszym przypadku zastosowaliśmy te same hiperparametry dla każdej z architektur: lr=0.001, momentum=0.9 oraz 2 epoki trenowania. Wykresy funkcji strat podczas procesu uczenia ukazują spadek wartości funkcji straty w kolejnych epokach dla wszystkich trzech sieci, co sugeruje prawidłowy przebieg procesu uczenia. Analiza macierzy pomyłek pozwala na ocenę skuteczności każdej z sieci w klasyfikacji poszczególnych klas. Warto zauważyć obszary, w których sieci miały największe trudności w dokładnej klasyfikacji. Przykłady błędnie sklasyfikowanych obrazów dla każdej z sieci pokazują, że nawet dla prostych przypadków sieci mogą popełniać błędy, co sugeruje istnienie obszarów, w których modele mogą wymagać dalszej optymalizacji. Podsumowując, analiza wyników pozwala na porównanie skuteczności różnych architektur sieci neuronowych oraz identyfikację obszarów, które mogą wymagać dalszego dostosowania w celu poprawy jakości klasyfikacji."
      ],
      "metadata": {
        "id": "1pyLnkjlkRnB"
      }
    }
  ]
}